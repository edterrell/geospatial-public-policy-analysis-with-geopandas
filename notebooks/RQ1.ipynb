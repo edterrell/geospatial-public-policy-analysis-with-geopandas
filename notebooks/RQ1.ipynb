{
 "cells": [
  {
   "cell_type": "markdown",
   "metadata": {},
   "source": [
    "# RQ1 How many higher education institutions are found in counties with majority underrepresented groups?\n",
    "\n",
    "## Wat are the characteristics of those institutions?"
   ]
  },
  {
   "cell_type": "code",
   "execution_count": 19,
   "metadata": {},
   "outputs": [
    {
     "ename": "ModuleNotFoundError",
     "evalue": "No module named 'us'",
     "output_type": "error",
     "traceback": [
      "\u001b[0;31m---------------------\u001b[0m",
      "\u001b[0;31mModuleNotFoundError\u001b[0mTraceback (most recent call last)",
      "\u001b[0;32m<ipython-input-19-c0f83bd6442e>\u001b[0m in \u001b[0;36m<module>\u001b[0;34m\u001b[0m\n\u001b[1;32m      3\u001b[0m \u001b[0;32mimport\u001b[0m \u001b[0mgeoplot\u001b[0m \u001b[0;32mas\u001b[0m \u001b[0mgplt\u001b[0m\u001b[0;34m\u001b[0m\u001b[0;34m\u001b[0m\u001b[0m\n\u001b[1;32m      4\u001b[0m \u001b[0;32mimport\u001b[0m \u001b[0mgeoplot\u001b[0m\u001b[0;34m.\u001b[0m\u001b[0mcrs\u001b[0m \u001b[0;32mas\u001b[0m \u001b[0mgcrs\u001b[0m\u001b[0;34m\u001b[0m\u001b[0;34m\u001b[0m\u001b[0m\n\u001b[0;32m----> 5\u001b[0;31m \u001b[0;32mimport\u001b[0m \u001b[0mus\u001b[0m\u001b[0;34m\u001b[0m\u001b[0;34m\u001b[0m\u001b[0m\n\u001b[0m\u001b[1;32m      6\u001b[0m \u001b[0;34m\u001b[0m\u001b[0m\n\u001b[1;32m      7\u001b[0m \u001b[0;34m\u001b[0m\u001b[0m\n",
      "\u001b[0;31mModuleNotFoundError\u001b[0m: No module named 'us'"
     ]
    }
   ],
   "source": [
    "import pandas as pd\n",
    "import geopandas as gpd\n",
    "import geoplot as gplt\n",
    "import geoplot.crs as gcrs\n",
    "\n",
    "\n",
    "\n",
    "import matplotlib.pyplot as plt\n",
    "\n",
    "from datetime import datetime as dt\n",
    "today = dt.today().strftime(\"%d-%b-%y\")\n",
    "from pathlib import Path\n",
    "from tools import tree\n",
    "\n",
    "today"
   ]
  },
  {
   "cell_type": "code",
   "execution_count": 2,
   "metadata": {},
   "outputs": [],
   "source": [
    "RAW_DATA = Path(\"../data/raw/\")\n",
    "INTERIM_DATA = Path(\"../data/intermin/\")\n",
    "PROCESSED_DATA = Path(\"../data/processed/\")\n",
    "FINAL_DATA = Path(\"../data/final/\")\n",
    "EXTERNAL_DATA = Path(\"../data/external/\")"
   ]
  },
  {
   "cell_type": "code",
   "execution_count": 3,
   "metadata": {},
   "outputs": [
    {
     "name": "stdout",
     "output_type": "stream",
     "text": [
      "+ ../data/processed\n",
      "        + processed_data-checkpoint.csv\n",
      "    + counties.csv\n",
      "    + geodata\n",
      "        + tl_2019_us_county.cpg\n",
      "        + tl_2019_us_county.dbf\n",
      "        + tl_2019_us_county.prj\n",
      "        + tl_2019_us_county.shp\n",
      "        + tl_2019_us_county.shp.ea.iso.xml\n",
      "        + tl_2019_us_county.shp.iso.xml\n",
      "        + tl_2019_us_county.shx\n",
      "    + institutions_data.csv\n",
      "    + processed_data.csv\n"
     ]
    }
   ],
   "source": [
    "tree(PROCESSED_DATA)"
   ]
  },
  {
   "cell_type": "code",
   "execution_count": 4,
   "metadata": {},
   "outputs": [],
   "source": [
    "counties_df = pd.read_csv(PROCESSED_DATA/'counties.csv')\n",
    "institutions_df = pd.read_csv(PROCESSED_DATA/'institutions_data.csv')\n",
    "county_shapes = gpd.read_file(PROCESSED_DATA/'geodata/tl_2019_us_county.shp')"
   ]
  },
  {
   "cell_type": "code",
   "execution_count": 12,
   "metadata": {},
   "outputs": [
    {
     "data": {
      "text/html": [
       "<div>\n",
       "<style scoped>\n",
       "    .dataframe tbody tr th:only-of-type {\n",
       "        vertical-align: middle;\n",
       "    }\n",
       "\n",
       "    .dataframe tbody tr th {\n",
       "        vertical-align: top;\n",
       "    }\n",
       "\n",
       "    .dataframe thead th {\n",
       "        text-align: right;\n",
       "    }\n",
       "</style>\n",
       "<table border=\"1\" class=\"dataframe\">\n",
       "  <thead>\n",
       "    <tr style=\"text-align: right;\">\n",
       "      <th></th>\n",
       "      <th>STATEFP</th>\n",
       "      <th>COUNTYFP</th>\n",
       "      <th>COUNTYNS</th>\n",
       "      <th>GEOID</th>\n",
       "      <th>NAME</th>\n",
       "      <th>NAMELSAD</th>\n",
       "      <th>LSAD</th>\n",
       "      <th>CLASSFP</th>\n",
       "      <th>MTFCC</th>\n",
       "      <th>CSAFP</th>\n",
       "      <th>CBSAFP</th>\n",
       "      <th>METDIVFP</th>\n",
       "      <th>FUNCSTAT</th>\n",
       "      <th>ALAND</th>\n",
       "      <th>AWATER</th>\n",
       "      <th>INTPTLAT</th>\n",
       "      <th>INTPTLON</th>\n",
       "      <th>geometry</th>\n",
       "    </tr>\n",
       "  </thead>\n",
       "  <tbody>\n",
       "    <tr>\n",
       "      <th>0</th>\n",
       "      <td>31</td>\n",
       "      <td>039</td>\n",
       "      <td>00835841</td>\n",
       "      <td>31039</td>\n",
       "      <td>Cuming</td>\n",
       "      <td>Cuming County</td>\n",
       "      <td>06</td>\n",
       "      <td>H1</td>\n",
       "      <td>G4020</td>\n",
       "      <td>None</td>\n",
       "      <td>None</td>\n",
       "      <td>None</td>\n",
       "      <td>A</td>\n",
       "      <td>1477652222</td>\n",
       "      <td>10690952</td>\n",
       "      <td>+41.9158651</td>\n",
       "      <td>-096.7885168</td>\n",
       "      <td>POLYGON ((-97.01952 42.00410, -97.01952 42.004...</td>\n",
       "    </tr>\n",
       "    <tr>\n",
       "      <th>1</th>\n",
       "      <td>53</td>\n",
       "      <td>069</td>\n",
       "      <td>01513275</td>\n",
       "      <td>53069</td>\n",
       "      <td>Wahkiakum</td>\n",
       "      <td>Wahkiakum County</td>\n",
       "      <td>06</td>\n",
       "      <td>H1</td>\n",
       "      <td>G4020</td>\n",
       "      <td>None</td>\n",
       "      <td>None</td>\n",
       "      <td>None</td>\n",
       "      <td>A</td>\n",
       "      <td>680962890</td>\n",
       "      <td>61582307</td>\n",
       "      <td>+46.2946377</td>\n",
       "      <td>-123.4244583</td>\n",
       "      <td>POLYGON ((-123.43639 46.23820, -123.44759 46.2...</td>\n",
       "    </tr>\n",
       "    <tr>\n",
       "      <th>2</th>\n",
       "      <td>35</td>\n",
       "      <td>011</td>\n",
       "      <td>00933054</td>\n",
       "      <td>35011</td>\n",
       "      <td>De Baca</td>\n",
       "      <td>De Baca County</td>\n",
       "      <td>06</td>\n",
       "      <td>H1</td>\n",
       "      <td>G4020</td>\n",
       "      <td>None</td>\n",
       "      <td>None</td>\n",
       "      <td>None</td>\n",
       "      <td>A</td>\n",
       "      <td>6016819475</td>\n",
       "      <td>29089486</td>\n",
       "      <td>+34.3592729</td>\n",
       "      <td>-104.3686961</td>\n",
       "      <td>POLYGON ((-104.56739 33.99757, -104.56772 33.9...</td>\n",
       "    </tr>\n",
       "  </tbody>\n",
       "</table>\n",
       "</div>"
      ],
      "text/plain": [
       "  STATEFP COUNTYFP  COUNTYNS  GEOID       NAME          NAMELSAD LSAD CLASSFP  \\\n",
       "0      31      039  00835841  31039     Cuming     Cuming County   06      H1   \n",
       "1      53      069  01513275  53069  Wahkiakum  Wahkiakum County   06      H1   \n",
       "2      35      011  00933054  35011    De Baca    De Baca County   06      H1   \n",
       "\n",
       "   MTFCC CSAFP CBSAFP METDIVFP FUNCSTAT       ALAND    AWATER     INTPTLAT  \\\n",
       "0  G4020  None   None     None        A  1477652222  10690952  +41.9158651   \n",
       "1  G4020  None   None     None        A   680962890  61582307  +46.2946377   \n",
       "2  G4020  None   None     None        A  6016819475  29089486  +34.3592729   \n",
       "\n",
       "       INTPTLON                                           geometry  \n",
       "0  -096.7885168  POLYGON ((-97.01952 42.00410, -97.01952 42.004...  \n",
       "1  -123.4244583  POLYGON ((-123.43639 46.23820, -123.44759 46.2...  \n",
       "2  -104.3686961  POLYGON ((-104.56739 33.99757, -104.56772 33.9...  "
      ]
     },
     "execution_count": 12,
     "metadata": {},
     "output_type": "execute_result"
    }
   ],
   "source": [
    "county_shapes.head(3)"
   ]
  },
  {
   "cell_type": "code",
   "execution_count": 7,
   "metadata": {},
   "outputs": [
    {
     "data": {
      "text/html": [
       "<div>\n",
       "<style scoped>\n",
       "    .dataframe tbody tr th:only-of-type {\n",
       "        vertical-align: middle;\n",
       "    }\n",
       "\n",
       "    .dataframe tbody tr th {\n",
       "        vertical-align: top;\n",
       "    }\n",
       "\n",
       "    .dataframe thead th {\n",
       "        text-align: right;\n",
       "    }\n",
       "</style>\n",
       "<table border=\"1\" class=\"dataframe\">\n",
       "  <thead>\n",
       "    <tr style=\"text-align: right;\">\n",
       "      <th></th>\n",
       "      <th>geoid</th>\n",
       "      <th>name</th>\n",
       "      <th>universe</th>\n",
       "      <th>white_alone</th>\n",
       "      <th>black_alone</th>\n",
       "      <th>american_indian_and_alaska_native</th>\n",
       "      <th>asian_alone</th>\n",
       "      <th>native_hawaiian_and_pacific_islander</th>\n",
       "      <th>other_alone</th>\n",
       "      <th>two_or_more_races</th>\n",
       "      <th>latino_alone</th>\n",
       "      <th>state</th>\n",
       "      <th>county</th>\n",
       "      <th>asians_all</th>\n",
       "      <th>other_all</th>\n",
       "    </tr>\n",
       "  </thead>\n",
       "  <tbody>\n",
       "    <tr>\n",
       "      <th>0</th>\n",
       "      <td>1001</td>\n",
       "      <td>Autauga County, Alabama</td>\n",
       "      <td>55200.0</td>\n",
       "      <td>41412.0</td>\n",
       "      <td>10475.0</td>\n",
       "      <td>159.0</td>\n",
       "      <td>568.0</td>\n",
       "      <td>5.0</td>\n",
       "      <td>41.0</td>\n",
       "      <td>1012.0</td>\n",
       "      <td>1528.0</td>\n",
       "      <td>1</td>\n",
       "      <td>1</td>\n",
       "      <td>573.0</td>\n",
       "      <td>1212.0</td>\n",
       "    </tr>\n",
       "    <tr>\n",
       "      <th>1</th>\n",
       "      <td>1003</td>\n",
       "      <td>Baldwin County, Alabama</td>\n",
       "      <td>208107.0</td>\n",
       "      <td>172768.0</td>\n",
       "      <td>19529.0</td>\n",
       "      <td>1398.0</td>\n",
       "      <td>1668.0</td>\n",
       "      <td>9.0</td>\n",
       "      <td>410.0</td>\n",
       "      <td>2972.0</td>\n",
       "      <td>9353.0</td>\n",
       "      <td>1</td>\n",
       "      <td>3</td>\n",
       "      <td>1677.0</td>\n",
       "      <td>4780.0</td>\n",
       "    </tr>\n",
       "    <tr>\n",
       "      <th>2</th>\n",
       "      <td>1005</td>\n",
       "      <td>Barbour County, Alabama</td>\n",
       "      <td>25782.0</td>\n",
       "      <td>11898.0</td>\n",
       "      <td>12199.0</td>\n",
       "      <td>63.0</td>\n",
       "      <td>85.0</td>\n",
       "      <td>1.0</td>\n",
       "      <td>86.0</td>\n",
       "      <td>344.0</td>\n",
       "      <td>1106.0</td>\n",
       "      <td>1</td>\n",
       "      <td>5</td>\n",
       "      <td>86.0</td>\n",
       "      <td>493.0</td>\n",
       "    </tr>\n",
       "    <tr>\n",
       "      <th>3</th>\n",
       "      <td>1007</td>\n",
       "      <td>Bibb County, Alabama</td>\n",
       "      <td>22527.0</td>\n",
       "      <td>16801.0</td>\n",
       "      <td>4974.0</td>\n",
       "      <td>8.0</td>\n",
       "      <td>37.0</td>\n",
       "      <td>0.0</td>\n",
       "      <td>0.0</td>\n",
       "      <td>160.0</td>\n",
       "      <td>547.0</td>\n",
       "      <td>1</td>\n",
       "      <td>7</td>\n",
       "      <td>37.0</td>\n",
       "      <td>168.0</td>\n",
       "    </tr>\n",
       "    <tr>\n",
       "      <th>4</th>\n",
       "      <td>1009</td>\n",
       "      <td>Blount County, Alabama</td>\n",
       "      <td>57645.0</td>\n",
       "      <td>50232.0</td>\n",
       "      <td>820.0</td>\n",
       "      <td>124.0</td>\n",
       "      <td>198.0</td>\n",
       "      <td>18.0</td>\n",
       "      <td>174.0</td>\n",
       "      <td>818.0</td>\n",
       "      <td>5261.0</td>\n",
       "      <td>1</td>\n",
       "      <td>9</td>\n",
       "      <td>216.0</td>\n",
       "      <td>1116.0</td>\n",
       "    </tr>\n",
       "  </tbody>\n",
       "</table>\n",
       "</div>"
      ],
      "text/plain": [
       "   geoid                     name  universe  white_alone  black_alone  \\\n",
       "0   1001  Autauga County, Alabama   55200.0      41412.0      10475.0   \n",
       "1   1003  Baldwin County, Alabama  208107.0     172768.0      19529.0   \n",
       "2   1005  Barbour County, Alabama   25782.0      11898.0      12199.0   \n",
       "3   1007     Bibb County, Alabama   22527.0      16801.0       4974.0   \n",
       "4   1009   Blount County, Alabama   57645.0      50232.0        820.0   \n",
       "\n",
       "   american_indian_and_alaska_native  asian_alone  \\\n",
       "0                              159.0        568.0   \n",
       "1                             1398.0       1668.0   \n",
       "2                               63.0         85.0   \n",
       "3                                8.0         37.0   \n",
       "4                              124.0        198.0   \n",
       "\n",
       "   native_hawaiian_and_pacific_islander  other_alone  two_or_more_races  \\\n",
       "0                                   5.0         41.0             1012.0   \n",
       "1                                   9.0        410.0             2972.0   \n",
       "2                                   1.0         86.0              344.0   \n",
       "3                                   0.0          0.0              160.0   \n",
       "4                                  18.0        174.0              818.0   \n",
       "\n",
       "   latino_alone  state  county  asians_all  other_all  \n",
       "0        1528.0      1       1       573.0     1212.0  \n",
       "1        9353.0      1       3      1677.0     4780.0  \n",
       "2        1106.0      1       5        86.0      493.0  \n",
       "3         547.0      1       7        37.0      168.0  \n",
       "4        5261.0      1       9       216.0     1116.0  "
      ]
     },
     "execution_count": 7,
     "metadata": {},
     "output_type": "execute_result"
    }
   ],
   "source": [
    "counties_df.head()"
   ]
  },
  {
   "cell_type": "code",
   "execution_count": 8,
   "metadata": {},
   "outputs": [
    {
     "data": {
      "text/html": [
       "<div>\n",
       "<style scoped>\n",
       "    .dataframe tbody tr th:only-of-type {\n",
       "        vertical-align: middle;\n",
       "    }\n",
       "\n",
       "    .dataframe tbody tr th {\n",
       "        vertical-align: top;\n",
       "    }\n",
       "\n",
       "    .dataframe thead th {\n",
       "        text-align: right;\n",
       "    }\n",
       "</style>\n",
       "<table border=\"1\" class=\"dataframe\">\n",
       "  <thead>\n",
       "    <tr style=\"text-align: right;\">\n",
       "      <th></th>\n",
       "      <th>institution_name</th>\n",
       "      <th>fips_state_code</th>\n",
       "      <th>longitude</th>\n",
       "      <th>latitude</th>\n",
       "      <th>total_enrollment</th>\n",
       "      <th>full-time_enrollment</th>\n",
       "      <th>part-time_enrollment</th>\n",
       "      <th>control</th>\n",
       "      <th>level</th>\n",
       "    </tr>\n",
       "  </thead>\n",
       "  <tbody>\n",
       "    <tr>\n",
       "      <th>0</th>\n",
       "      <td>Aaniiih Nakoda College</td>\n",
       "      <td>Montana</td>\n",
       "      <td>-108.757816</td>\n",
       "      <td>48.484196</td>\n",
       "      <td>150.0</td>\n",
       "      <td>108.0</td>\n",
       "      <td>42.0</td>\n",
       "      <td>Public</td>\n",
       "      <td>2-year</td>\n",
       "    </tr>\n",
       "    <tr>\n",
       "      <th>1</th>\n",
       "      <td>Abilene Christian University</td>\n",
       "      <td>Texas</td>\n",
       "      <td>-99.709797</td>\n",
       "      <td>32.468943</td>\n",
       "      <td>5204.0</td>\n",
       "      <td>3730.0</td>\n",
       "      <td>1474.0</td>\n",
       "      <td>Private not-for-profit</td>\n",
       "      <td>4-year or above</td>\n",
       "    </tr>\n",
       "    <tr>\n",
       "      <th>2</th>\n",
       "      <td>Abraham Baldwin Agricultural College</td>\n",
       "      <td>Georgia</td>\n",
       "      <td>-83.528281</td>\n",
       "      <td>31.481889</td>\n",
       "      <td>4291.0</td>\n",
       "      <td>2660.0</td>\n",
       "      <td>1631.0</td>\n",
       "      <td>Public</td>\n",
       "      <td>4-year or above</td>\n",
       "    </tr>\n",
       "    <tr>\n",
       "      <th>3</th>\n",
       "      <td>Abraham Lincoln University</td>\n",
       "      <td>California</td>\n",
       "      <td>-118.256726</td>\n",
       "      <td>34.146294</td>\n",
       "      <td>217.0</td>\n",
       "      <td>194.0</td>\n",
       "      <td>23.0</td>\n",
       "      <td>Private for-profit</td>\n",
       "      <td>4-year or above</td>\n",
       "    </tr>\n",
       "    <tr>\n",
       "      <th>4</th>\n",
       "      <td>Academy College</td>\n",
       "      <td>Minnesota</td>\n",
       "      <td>-93.299809</td>\n",
       "      <td>44.855722</td>\n",
       "      <td>99.0</td>\n",
       "      <td>81.0</td>\n",
       "      <td>18.0</td>\n",
       "      <td>Private for-profit</td>\n",
       "      <td>4-year or above</td>\n",
       "    </tr>\n",
       "  </tbody>\n",
       "</table>\n",
       "</div>"
      ],
      "text/plain": [
       "                       institution_name fips_state_code   longitude  \\\n",
       "0                Aaniiih Nakoda College         Montana -108.757816   \n",
       "1          Abilene Christian University           Texas  -99.709797   \n",
       "2  Abraham Baldwin Agricultural College         Georgia  -83.528281   \n",
       "3            Abraham Lincoln University      California -118.256726   \n",
       "4                       Academy College       Minnesota  -93.299809   \n",
       "\n",
       "    latitude  total_enrollment  full-time_enrollment  part-time_enrollment  \\\n",
       "0  48.484196             150.0                 108.0                  42.0   \n",
       "1  32.468943            5204.0                3730.0                1474.0   \n",
       "2  31.481889            4291.0                2660.0                1631.0   \n",
       "3  34.146294             217.0                 194.0                  23.0   \n",
       "4  44.855722              99.0                  81.0                  18.0   \n",
       "\n",
       "                  control            level  \n",
       "0                  Public           2-year  \n",
       "1  Private not-for-profit  4-year or above  \n",
       "2                  Public  4-year or above  \n",
       "3      Private for-profit  4-year or above  \n",
       "4      Private for-profit  4-year or above  "
      ]
     },
     "execution_count": 8,
     "metadata": {},
     "output_type": "execute_result"
    }
   ],
   "source": [
    "institutions_df.head()"
   ]
  },
  {
   "cell_type": "code",
   "execution_count": 14,
   "metadata": {},
   "outputs": [
    {
     "data": {
      "text/plain": [
       "<matplotlib.axes._subplots.AxesSubplot at 0x7fec45381bb0>"
      ]
     },
     "execution_count": 14,
     "metadata": {},
     "output_type": "execute_result"
    },
    {
     "data": {
      "image/png": "[encoded data removed]",
      "text/plain": [
       "<Figure size 432x288 with 1 Axes>"
      ]
     },
     "metadata": {
      "needs_background": "light"
     },
     "output_type": "display_data"
    }
   ],
   "source": [
    "institutions_df.plot()"
   ]
  },
  {
   "cell_type": "code",
   "execution_count": 18,
   "metadata": {},
   "outputs": [
    {
     "data": {
      "text/plain": [
       "<matplotlib.axes._subplots.AxesSubplot at 0x7fec453c00a0>"
      ]
     },
     "execution_count": 18,
     "metadata": {},
     "output_type": "execute_result"
    },
    {
     "data": {
      "image/png": "[encoded data removed]",
      "text/plain": [
       "<Figure size 432x288 with 1 Axes>"
      ]
     },
     "metadata": {
      "needs_background": "light"
     },
     "output_type": "display_data"
    }
   ],
   "source": [
    "county_shapes.plot()"
   ]
  },
  {
   "cell_type": "code",
   "execution_count": 20,
   "metadata": {},
   "outputs": [
    {
     "ename": "NameError",
     "evalue": "name 'us' is not defined",
     "output_type": "error",
     "traceback": [
      "\u001b[0;31m---------------------\u001b[0m",
      "\u001b[0;31mNameError\u001b[0mTraceback (most recent call last)",
      "\u001b[0;32m<ipython-input-20-09001bf43749>\u001b[0m in \u001b[0;36m<module>\u001b[0;34m\u001b[0m\n\u001b[0;32m----> 1\u001b[0;31m \u001b[0mus\u001b[0m\u001b[0;34m.\u001b[0m\u001b[0mSTATES_CONTIGUOUS\u001b[0m\u001b[0;34m[\u001b[0m\u001b[0;36m0\u001b[0m\u001b[0;34m]\u001b[0m\u001b[0;34m.\u001b[0m\u001b[0mNAME\u001b[0m\u001b[0;34m\u001b[0m\u001b[0;34m\u001b[0m\u001b[0m\n\u001b[0m\u001b[1;32m      2\u001b[0m \u001b[0mus\u001b[0m\u001b[0;34m.\u001b[0m\u001b[0mSTATES_CONTIGUOUS\u001b[0m\u001b[0;34m[\u001b[0m\u001b[0;36m0\u001b[0m\u001b[0;34m]\u001b[0m\u001b[0;34m.\u001b[0m\u001b[0mfips\u001b[0m\u001b[0;34m\u001b[0m\u001b[0;34m\u001b[0m\u001b[0m\n\u001b[1;32m      3\u001b[0m \u001b[0mus\u001b[0m\u001b[0;34m.\u001b[0m\u001b[0mSTATES_CONTIGUOUS\u001b[0m\u001b[0;34m[\u001b[0m\u001b[0;36m0\u001b[0m\u001b[0;34m]\u001b[0m\u001b[0;34m.\u001b[0m\u001b[0mabbr\u001b[0m\u001b[0;34m\u001b[0m\u001b[0;34m\u001b[0m\u001b[0m\n",
      "\u001b[0;31mNameError\u001b[0m: name 'us' is not defined"
     ]
    }
   ],
   "source": [
    "import us\n",
    "us.STATES_CONTIGUOUS[0].NAME\n",
    "us.STATES_CONTIGUOUS[0].fips\n",
    "us.STATES_CONTIGUOUS[0].abbr"
   ]
  },
  {
   "cell_type": "code",
   "execution_count": null,
   "metadata": {},
   "outputs": [],
   "source": [
    "contiguous_fips = [state.fips for state in us.STATES_CONTIGUOUS]\n",
    "contiguous_fips[:5]"
   ]
  }
 ],
 "metadata": {
  "kernelspec": {
   "display_name": "Python 3",
   "language": "python",
   "name": "python3"
  },
  "language_info": {
   "codemirror_mode": {
    "name": "ipython",
    "version": 3
   },
   "file_extension": ".py",
   "mimetype": "text/x-python",
   "name": "python",
   "nbconvert_exporter": "python",
   "pygments_lexer": "ipython3",
   "version": "3.8.3"
  }
 },
 "nbformat": 4,
 "nbformat_minor": 4
}
